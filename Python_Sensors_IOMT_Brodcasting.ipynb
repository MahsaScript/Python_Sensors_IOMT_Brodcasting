{
  "nbformat": 4,
  "nbformat_minor": 0,
  "metadata": {
    "colab": {
      "provenance": []
    },
    "kernelspec": {
      "name": "python3",
      "display_name": "Python 3"
    },
    "language_info": {
      "name": "python"
    }
  },
  "cells": [
    {
      "cell_type": "code",
      "execution_count": null,
      "metadata": {
        "id": "t27v8hFL7vJY"
      },
      "outputs": [],
      "source": [
        "import simCore as core\n",
        "def upwardBrodcasting(sensors, model, packetType):\n",
        "    sendersID = [i for i in range(model.n)]            # All Sensors\n",
        "    for i in sendersID:\n",
        "        sender = sensors[i]\n",
        "        core.sendPacket(sensors, model, sender, packetType)\n",
        "        visited = [sender.id]\n",
        "        Neighbours = sender.findNeighbours()              # Neighbours\n",
        "        count = 0\n",
        "\n",
        "        while Neighbours:\n",
        "            #count+=1\n",
        "            #print(count)\n",
        "            n = Neighbours.pop(0)\n",
        "            print(n)\n",
        "            core.sendPacket(sensors, model, sensors[n], packetType )\n",
        "            visited.append(n)\n",
        "            nn = sensors[n].findNeighbours()\n",
        "            for item in nn:\n",
        "                if ((item not in Neighbours) and (item not in visited)):\n",
        "                    Neighbours.append(item)\n",
        "\n",
        "    return sensors\n",
        "\n",
        "def downwardBrodcasting(sensors, model, packetType='Hello'):\n",
        "    senderID = model.n + model.n * model.m                        # Sink\n",
        "    sender = sensors[senderID]\n",
        "    core.sendPacket(sensors, model, sender, packetType)\n",
        "    visited = [sender.id]\n",
        "    Neighbours = sender.findNeighbours()              # Neighbours\n",
        "    count = 0\n",
        "\n",
        "    while Neighbours:\n",
        "        #count+=1\n",
        "        #print(count)\n",
        "        n = Neighbours.pop(0)\n",
        "        print(n)\n",
        "        core.sendPacket(sensors, model, sensors[n], packetType )\n",
        "        visited.append(n)\n",
        "        nn = sensors[n].findNeighbours()\n",
        "        for item in nn:\n",
        "            if ((item not in Neighbours) and (item not in visited)):\n",
        "                Neighbours.append(item)\n",
        "\n",
        "\n",
        "    return sensors"
      ]
    }
  ]
}